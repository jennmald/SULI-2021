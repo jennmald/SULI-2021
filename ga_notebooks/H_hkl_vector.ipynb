{
 "cells": [
  {
   "cell_type": "code",
   "execution_count": 1,
   "id": "01031cad-8116-4f4e-aae4-2473e257788d",
   "metadata": {},
   "outputs": [],
   "source": [
    "from sympy import simplify, symbols\n",
    "from sympy.vector import CoordSys3D"
   ]
  },
  {
   "cell_type": "code",
   "execution_count": 2,
   "id": "d5bd5e8e-9a5a-42cc-8f75-4737d5f67b09",
   "metadata": {},
   "outputs": [],
   "source": [
    "N = CoordSys3D(\"N\")"
   ]
  },
  {
   "cell_type": "code",
   "execution_count": 3,
   "id": "592b3bb7-e709-4d53-8676-67c6821cbef4",
   "metadata": {},
   "outputs": [],
   "source": [
    "a1, a2, a3 = symbols(\"a_1,a_2,a_3\")\n",
    "a = a1*N.i + a2*N.j + a3*N.k"
   ]
  },
  {
   "cell_type": "code",
   "execution_count": 4,
   "id": "84b561b6-5ba2-41b9-9c34-87c605e75af0",
   "metadata": {},
   "outputs": [],
   "source": [
    "b1, b2, b3 = symbols(\"b_1,b_2,b_3\")\n",
    "b = b1*N.i + b2*N.j + b3*N.k"
   ]
  },
  {
   "cell_type": "code",
   "execution_count": 5,
   "id": "e41d7878-d171-4ec4-8de4-f53365b8be5c",
   "metadata": {},
   "outputs": [],
   "source": [
    "c1, c2, c3 = symbols(\"c_1,c_2,c_3\")\n",
    "c = c1*N.i + c2*N.j + c3*N.k"
   ]
  },
  {
   "cell_type": "code",
   "execution_count": 6,
   "id": "818cce3c-f147-4314-a2b2-03b1c3dcc75d",
   "metadata": {},
   "outputs": [],
   "source": [
    "V = a.dot(b.cross(c))"
   ]
  },
  {
   "cell_type": "code",
   "execution_count": 7,
   "id": "fe02862c-ea4e-42dd-af09-a15d2feedeea",
   "metadata": {},
   "outputs": [],
   "source": [
    "a_r = (b.cross(c)) / V"
   ]
  },
  {
   "cell_type": "code",
   "execution_count": 8,
   "id": "a499e882-b549-4b24-ac02-3f8d05c8335a",
   "metadata": {},
   "outputs": [],
   "source": [
    "b_r = (c.cross(a)) / V"
   ]
  },
  {
   "cell_type": "code",
   "execution_count": 9,
   "id": "3f7a05b8-29e0-4b55-a4ec-7f1708258aaa",
   "metadata": {},
   "outputs": [],
   "source": [
    "c_r = (a.cross(b)) / V"
   ]
  },
  {
   "cell_type": "code",
   "execution_count": 10,
   "id": "91191cd2-caf5-48a4-b002-49a76524a75e",
   "metadata": {},
   "outputs": [
    {
     "data": {
      "text/latex": [
       "$\\displaystyle \\frac{a_{1} \\left(b_{2} c_{3} - b_{3} c_{2}\\right)}{a_{1} \\left(b_{2} c_{3} - b_{3} c_{2}\\right) + a_{2} \\left(- b_{1} c_{3} + b_{3} c_{1}\\right) + a_{3} \\left(b_{1} c_{2} - b_{2} c_{1}\\right)} + \\frac{a_{2} \\left(- b_{1} c_{3} + b_{3} c_{1}\\right)}{a_{1} \\left(b_{2} c_{3} - b_{3} c_{2}\\right) + a_{2} \\left(- b_{1} c_{3} + b_{3} c_{1}\\right) + a_{3} \\left(b_{1} c_{2} - b_{2} c_{1}\\right)} + \\frac{a_{3} \\left(b_{1} c_{2} - b_{2} c_{1}\\right)}{a_{1} \\left(b_{2} c_{3} - b_{3} c_{2}\\right) + a_{2} \\left(- b_{1} c_{3} + b_{3} c_{1}\\right) + a_{3} \\left(b_{1} c_{2} - b_{2} c_{1}\\right)}$"
      ],
      "text/plain": [
       "a_1*(b_2*c_3 - b_3*c_2)/(a_1*(b_2*c_3 - b_3*c_2) + a_2*(-b_1*c_3 + b_3*c_1) + a_3*(b_1*c_2 - b_2*c_1)) + a_2*(-b_1*c_3 + b_3*c_1)/(a_1*(b_2*c_3 - b_3*c_2) + a_2*(-b_1*c_3 + b_3*c_1) + a_3*(b_1*c_2 - b_2*c_1)) + a_3*(b_1*c_2 - b_2*c_1)/(a_1*(b_2*c_3 - b_3*c_2) + a_2*(-b_1*c_3 + b_3*c_1) + a_3*(b_1*c_2 - b_2*c_1))"
      ]
     },
     "execution_count": 10,
     "metadata": {},
     "output_type": "execute_result"
    }
   ],
   "source": [
    "a.dot(a_r)"
   ]
  },
  {
   "cell_type": "code",
   "execution_count": 11,
   "id": "7e52d4bc-703f-4537-937e-cb5430c832ce",
   "metadata": {},
   "outputs": [
    {
     "data": {
      "text/latex": [
       "$\\displaystyle 1$"
      ],
      "text/plain": [
       "1"
      ]
     },
     "execution_count": 11,
     "metadata": {},
     "output_type": "execute_result"
    }
   ],
   "source": [
    "simplify(a.dot(a_r))"
   ]
  },
  {
   "cell_type": "code",
   "execution_count": 12,
   "id": "69c1d9e3-de30-490c-9acc-763c83d4b0cd",
   "metadata": {},
   "outputs": [
    {
     "data": {
      "text/latex": [
       "$\\displaystyle 1$"
      ],
      "text/plain": [
       "1"
      ]
     },
     "execution_count": 12,
     "metadata": {},
     "output_type": "execute_result"
    }
   ],
   "source": [
    "simplify(b.dot(b_r))"
   ]
  },
  {
   "cell_type": "code",
   "execution_count": 13,
   "id": "39ca1dc9-9822-4138-85e8-54189f801163",
   "metadata": {},
   "outputs": [
    {
     "data": {
      "text/latex": [
       "$\\displaystyle 1$"
      ],
      "text/plain": [
       "1"
      ]
     },
     "execution_count": 13,
     "metadata": {},
     "output_type": "execute_result"
    }
   ],
   "source": [
    "simplify(c.dot(c_r))"
   ]
  },
  {
   "cell_type": "code",
   "execution_count": 14,
   "id": "ebc172ab-c815-4119-8ddd-7fce72003d81",
   "metadata": {},
   "outputs": [
    {
     "data": {
      "text/latex": [
       "$\\displaystyle 0$"
      ],
      "text/plain": [
       "0"
      ]
     },
     "execution_count": 14,
     "metadata": {},
     "output_type": "execute_result"
    }
   ],
   "source": [
    "simplify(b.dot(a_r))"
   ]
  },
  {
   "cell_type": "code",
   "execution_count": 15,
   "id": "84b7a8a0-44d4-46b1-a7ed-6ea662a9fac8",
   "metadata": {},
   "outputs": [
    {
     "data": {
      "text/latex": [
       "$\\displaystyle 0$"
      ],
      "text/plain": [
       "0"
      ]
     },
     "execution_count": 15,
     "metadata": {},
     "output_type": "execute_result"
    }
   ],
   "source": [
    "simplify(c.dot(a_r))"
   ]
  },
  {
   "cell_type": "code",
   "execution_count": 16,
   "id": "4d0959bc-cf4f-42aa-bd79-02f68c2bd9c0",
   "metadata": {},
   "outputs": [
    {
     "data": {
      "text/latex": [
       "$\\displaystyle 0$"
      ],
      "text/plain": [
       "0"
      ]
     },
     "execution_count": 16,
     "metadata": {},
     "output_type": "execute_result"
    }
   ],
   "source": [
    "simplify(a.dot(b_r))"
   ]
  },
  {
   "cell_type": "code",
   "execution_count": 17,
   "id": "4f541cc2-396f-4b94-848f-5c4aa54768b9",
   "metadata": {},
   "outputs": [
    {
     "data": {
      "text/latex": [
       "$\\displaystyle 0$"
      ],
      "text/plain": [
       "0"
      ]
     },
     "execution_count": 17,
     "metadata": {},
     "output_type": "execute_result"
    }
   ],
   "source": [
    "simplify(c.dot(b_r))"
   ]
  },
  {
   "cell_type": "code",
   "execution_count": 18,
   "id": "2281e782-4baf-4c78-8409-5e4126ffcf47",
   "metadata": {},
   "outputs": [
    {
     "data": {
      "text/latex": [
       "$\\displaystyle 0$"
      ],
      "text/plain": [
       "0"
      ]
     },
     "execution_count": 18,
     "metadata": {},
     "output_type": "execute_result"
    }
   ],
   "source": [
    "simplify(a.dot(c_r))"
   ]
  },
  {
   "cell_type": "code",
   "execution_count": 19,
   "id": "4cabc814-4148-4b77-a719-bcb9c659c0cf",
   "metadata": {},
   "outputs": [
    {
     "data": {
      "text/latex": [
       "$\\displaystyle 0$"
      ],
      "text/plain": [
       "0"
      ]
     },
     "execution_count": 19,
     "metadata": {},
     "output_type": "execute_result"
    }
   ],
   "source": [
    "simplify(b.dot(c_r))"
   ]
  },
  {
   "cell_type": "code",
   "execution_count": 20,
   "id": "ab31d040-0a4c-45cd-8298-c84f910f05e6",
   "metadata": {},
   "outputs": [],
   "source": [
    "h, k, l = symbols(\"h,k,l\")\n",
    "H_hkl = h*a_r + k*b_r + l*c_r"
   ]
  },
  {
   "cell_type": "code",
   "execution_count": 21,
   "id": "28f5f4eb-4c5a-4f1f-9e31-d7863226f16d",
   "metadata": {},
   "outputs": [
    {
     "data": {
      "text/latex": [
       "$\\displaystyle (\\frac{h \\left(b_{2} c_{3} - b_{3} c_{2}\\right) - k \\left(a_{2} c_{3} - a_{3} c_{2}\\right) + l \\left(a_{2} b_{3} - a_{3} b_{2}\\right)}{a_{1} \\left(b_{2} c_{3} - b_{3} c_{2}\\right) - a_{2} \\left(b_{1} c_{3} - b_{3} c_{1}\\right) + a_{3} \\left(b_{1} c_{2} - b_{2} c_{1}\\right)})\\mathbf{\\hat{i}_{N}} + (\\frac{- h \\left(b_{1} c_{3} - b_{3} c_{1}\\right) + k \\left(a_{1} c_{3} - a_{3} c_{1}\\right) - l \\left(a_{1} b_{3} - a_{3} b_{1}\\right)}{a_{1} \\left(b_{2} c_{3} - b_{3} c_{2}\\right) - a_{2} \\left(b_{1} c_{3} - b_{3} c_{1}\\right) + a_{3} \\left(b_{1} c_{2} - b_{2} c_{1}\\right)})\\mathbf{\\hat{j}_{N}} + (\\frac{h \\left(b_{1} c_{2} - b_{2} c_{1}\\right) - k \\left(a_{1} c_{2} - a_{2} c_{1}\\right) + l \\left(a_{1} b_{2} - a_{2} b_{1}\\right)}{a_{1} \\left(b_{2} c_{3} - b_{3} c_{2}\\right) - a_{2} \\left(b_{1} c_{3} - b_{3} c_{1}\\right) + a_{3} \\left(b_{1} c_{2} - b_{2} c_{1}\\right)})\\mathbf{\\hat{k}_{N}}$"
      ],
      "text/plain": [
       "((h*(b_2*c_3 - b_3*c_2) - k*(a_2*c_3 - a_3*c_2) + l*(a_2*b_3 - a_3*b_2))/(a_1*(b_2*c_3 - b_3*c_2) - a_2*(b_1*c_3 - b_3*c_1) + a_3*(b_1*c_2 - b_2*c_1)))*N.i + ((-h*(b_1*c_3 - b_3*c_1) + k*(a_1*c_3 - a_3*c_1) - l*(a_1*b_3 - a_3*b_1))/(a_1*(b_2*c_3 - b_3*c_2) - a_2*(b_1*c_3 - b_3*c_1) + a_3*(b_1*c_2 - b_2*c_1)))*N.j + ((h*(b_1*c_2 - b_2*c_1) - k*(a_1*c_2 - a_2*c_1) + l*(a_1*b_2 - a_2*b_1))/(a_1*(b_2*c_3 - b_3*c_2) - a_2*(b_1*c_3 - b_3*c_1) + a_3*(b_1*c_2 - b_2*c_1)))*N.k"
      ]
     },
     "execution_count": 21,
     "metadata": {},
     "output_type": "execute_result"
    }
   ],
   "source": [
    "simplify(H_hkl)"
   ]
  },
  {
   "cell_type": "code",
   "execution_count": 22,
   "id": "c1212e09-616f-472f-bace-63fd9f54a4ec",
   "metadata": {},
   "outputs": [],
   "source": [
    "H_hkl_cubic = H_hkl.subs(a2, 0).subs(a3, 0).subs(b1, 0).subs(b3, 0).subs(c1, 0).subs(c2, 0)"
   ]
  },
  {
   "cell_type": "code",
   "execution_count": 25,
   "id": "8e99428d-af73-4dee-b4b8-a20b2fee8f73",
   "metadata": {},
   "outputs": [
    {
     "data": {
      "text/latex": [
       "$\\displaystyle \\frac{l^{2}}{c_{3}^{2}} + \\frac{k^{2}}{b_{2}^{2}} + \\frac{h^{2}}{a_{1}^{2}}$"
      ],
      "text/plain": [
       "l**2/c_3**2 + k**2/b_2**2 + h**2/a_1**2"
      ]
     },
     "execution_count": 25,
     "metadata": {},
     "output_type": "execute_result"
    }
   ],
   "source": [
    "H_hkl_cubic.dot(H_hkl_cubic)"
   ]
  },
  {
   "cell_type": "code",
   "execution_count": null,
   "id": "fe646e8c-c4c2-4d57-ad24-92bcecde31b4",
   "metadata": {},
   "outputs": [],
   "source": []
  },
  {
   "cell_type": "code",
   "execution_count": null,
   "id": "73a75da7-3c23-4203-99fd-ad57d032fd82",
   "metadata": {},
   "outputs": [],
   "source": []
  }
 ],
 "metadata": {
  "kernelspec": {
   "display_name": "Python 3",
   "language": "python",
   "name": "python3"
  },
  "language_info": {
   "codemirror_mode": {
    "name": "ipython",
    "version": 3
   },
   "file_extension": ".py",
   "mimetype": "text/x-python",
   "name": "python",
   "nbconvert_exporter": "python",
   "pygments_lexer": "ipython3",
   "version": "3.8.10"
  }
 },
 "nbformat": 4,
 "nbformat_minor": 5
}
